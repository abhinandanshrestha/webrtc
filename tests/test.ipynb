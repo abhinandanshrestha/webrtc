{
 "cells": [
  {
   "cell_type": "code",
   "execution_count": 5,
   "metadata": {},
   "outputs": [
    {
     "name": "stdout",
     "output_type": "stream",
     "text": [
      "Channels: 1\n",
      "Sample Rate: 24000 Hz\n",
      "Sample Width: 2 bytes\n"
     ]
    }
   ],
   "source": [
    "import wave\n",
    "\n",
    "# Welcome Audio that has to be played in the starting\n",
    "with wave.open(\"../src/callbot/audios/global_ime_3_no.wav\", 'rb') as wav_file:\n",
    "    # Get the number of channels\n",
    "    channels = wav_file.getnchannels()\n",
    "\n",
    "    # Get the sample rate\n",
    "    sample_rate = wav_file.getframerate()\n",
    "\n",
    "    # Get the sample width\n",
    "    sample_width = wav_file.getsampwidth()\n",
    "\n",
    "    # Get the number of frames\n",
    "    num_frames = wav_file.getnframes()\n",
    "\n",
    "    # Read the audio data\n",
    "    audio_data = wav_file.readframes(num_frames)\n",
    "\n",
    "print(f\"Channels: {channels}\")\n",
    "print(f\"Sample Rate: {sample_rate} Hz\")\n",
    "print(f\"Sample Width: {sample_width} bytes\")\n"
   ]
  }
 ],
 "metadata": {
  "kernelspec": {
   "display_name": "Python 3",
   "language": "python",
   "name": "python3"
  },
  "language_info": {
   "codemirror_mode": {
    "name": "ipython",
    "version": 3
   },
   "file_extension": ".py",
   "mimetype": "text/x-python",
   "name": "python",
   "nbconvert_exporter": "python",
   "pygments_lexer": "ipython3",
   "version": "3.10.12"
  }
 },
 "nbformat": 4,
 "nbformat_minor": 2
}
