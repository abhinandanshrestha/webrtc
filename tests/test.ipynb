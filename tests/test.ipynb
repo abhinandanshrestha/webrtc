{
 "cells": [
  {
   "cell_type": "markdown",
   "metadata": {},
   "source": [
    "# Test Microphone Track"
   ]
  },
  {
   "cell_type": "code",
   "execution_count": 2,
   "metadata": {},
   "outputs": [
    {
     "ename": "ValueError",
     "evalue": "no container format 'dshow'",
     "output_type": "error",
     "traceback": [
      "\u001b[0;31m---------------------------------------------------------------------------\u001b[0m",
      "\u001b[0;31mValueError\u001b[0m                                Traceback (most recent call last)",
      "Cell \u001b[0;32mIn[2], line 9\u001b[0m\n\u001b[1;32m      6\u001b[0m CHANNELS \u001b[38;5;241m=\u001b[39m \u001b[38;5;241m2\u001b[39m  \u001b[38;5;66;03m# Stereo\u001b[39;00m\n\u001b[1;32m      7\u001b[0m RATE \u001b[38;5;241m=\u001b[39m \u001b[38;5;241m48000\u001b[39m  \u001b[38;5;66;03m# Adjust this based on the audio sample rate\u001b[39;00m\n\u001b[0;32m----> 9\u001b[0m microphone_track\u001b[38;5;241m=\u001b[39m\u001b[43mMediaPlayer\u001b[49m\u001b[43m(\u001b[49m\u001b[38;5;124;43m\"\u001b[39;49m\u001b[38;5;124;43maudio=Microphone Array (Realtek(R) Audio)\u001b[39;49m\u001b[38;5;124;43m\"\u001b[39;49m\u001b[43m,\u001b[49m\u001b[43m \u001b[49m\u001b[38;5;28;43mformat\u001b[39;49m\u001b[38;5;241;43m=\u001b[39;49m\u001b[38;5;124;43m\"\u001b[39;49m\u001b[38;5;124;43mdshow\u001b[39;49m\u001b[38;5;124;43m\"\u001b[39;49m\u001b[43m)\u001b[49m\n\u001b[1;32m     11\u001b[0m audio \u001b[38;5;241m=\u001b[39m pyaudio\u001b[38;5;241m.\u001b[39mPyAudio()\n\u001b[1;32m     12\u001b[0m stream \u001b[38;5;241m=\u001b[39m audio\u001b[38;5;241m.\u001b[39mopen(\u001b[38;5;28mformat\u001b[39m\u001b[38;5;241m=\u001b[39mFORMAT,\n\u001b[1;32m     13\u001b[0m                     channels\u001b[38;5;241m=\u001b[39mCHANNELS,\n\u001b[1;32m     14\u001b[0m                     rate\u001b[38;5;241m=\u001b[39mRATE,\n\u001b[1;32m     15\u001b[0m                     output\u001b[38;5;241m=\u001b[39m\u001b[38;5;28;01mTrue\u001b[39;00m)\n",
      "File \u001b[0;32m~/webrtc/myvenv/lib/python3.8/site-packages/aiortc/contrib/media.py:305\u001b[0m, in \u001b[0;36mMediaPlayer.__init__\u001b[0;34m(self, file, format, options, timeout, loop, decode)\u001b[0m\n\u001b[1;32m    302\u001b[0m \u001b[38;5;28;01mdef\u001b[39;00m \u001b[38;5;21m__init__\u001b[39m(\n\u001b[1;32m    303\u001b[0m     \u001b[38;5;28mself\u001b[39m, file, \u001b[38;5;28mformat\u001b[39m\u001b[38;5;241m=\u001b[39m\u001b[38;5;28;01mNone\u001b[39;00m, options\u001b[38;5;241m=\u001b[39m\u001b[38;5;28;01mNone\u001b[39;00m, timeout\u001b[38;5;241m=\u001b[39m\u001b[38;5;28;01mNone\u001b[39;00m, loop\u001b[38;5;241m=\u001b[39m\u001b[38;5;28;01mFalse\u001b[39;00m, decode\u001b[38;5;241m=\u001b[39m\u001b[38;5;28;01mTrue\u001b[39;00m\n\u001b[1;32m    304\u001b[0m ):\n\u001b[0;32m--> 305\u001b[0m     \u001b[38;5;28mself\u001b[39m\u001b[38;5;241m.\u001b[39m__container \u001b[38;5;241m=\u001b[39m \u001b[43mav\u001b[49m\u001b[38;5;241;43m.\u001b[39;49m\u001b[43mopen\u001b[49m\u001b[43m(\u001b[49m\n\u001b[1;32m    306\u001b[0m \u001b[43m        \u001b[49m\u001b[43mfile\u001b[49m\u001b[38;5;241;43m=\u001b[39;49m\u001b[43mfile\u001b[49m\u001b[43m,\u001b[49m\u001b[43m \u001b[49m\u001b[38;5;28;43mformat\u001b[39;49m\u001b[38;5;241;43m=\u001b[39;49m\u001b[38;5;28;43mformat\u001b[39;49m\u001b[43m,\u001b[49m\u001b[43m \u001b[49m\u001b[43mmode\u001b[49m\u001b[38;5;241;43m=\u001b[39;49m\u001b[38;5;124;43m\"\u001b[39;49m\u001b[38;5;124;43mr\u001b[39;49m\u001b[38;5;124;43m\"\u001b[39;49m\u001b[43m,\u001b[49m\u001b[43m \u001b[49m\u001b[43moptions\u001b[49m\u001b[38;5;241;43m=\u001b[39;49m\u001b[43moptions\u001b[49m\u001b[43m,\u001b[49m\u001b[43m \u001b[49m\u001b[43mtimeout\u001b[49m\u001b[38;5;241;43m=\u001b[39;49m\u001b[43mtimeout\u001b[49m\n\u001b[1;32m    307\u001b[0m \u001b[43m    \u001b[49m\u001b[43m)\u001b[49m\n\u001b[1;32m    308\u001b[0m     \u001b[38;5;28mself\u001b[39m\u001b[38;5;241m.\u001b[39m__thread: Optional[threading\u001b[38;5;241m.\u001b[39mThread] \u001b[38;5;241m=\u001b[39m \u001b[38;5;28;01mNone\u001b[39;00m\n\u001b[1;32m    309\u001b[0m     \u001b[38;5;28mself\u001b[39m\u001b[38;5;241m.\u001b[39m__thread_quit: Optional[threading\u001b[38;5;241m.\u001b[39mEvent] \u001b[38;5;241m=\u001b[39m \u001b[38;5;28;01mNone\u001b[39;00m\n",
      "File \u001b[0;32mav/container/core.pyx:401\u001b[0m, in \u001b[0;36mav.container.core.open\u001b[0;34m()\u001b[0m\n",
      "File \u001b[0;32mav/container/core.pyx:199\u001b[0m, in \u001b[0;36mav.container.core.Container.__cinit__\u001b[0;34m()\u001b[0m\n",
      "File \u001b[0;32mav/format.pyx:90\u001b[0m, in \u001b[0;36mav.format.ContainerFormat.__cinit__\u001b[0;34m()\u001b[0m\n",
      "\u001b[0;31mValueError\u001b[0m: no container format 'dshow'"
     ]
    }
   ],
   "source": [
    "from aiortc.contrib.media import MediaPlayer\n",
    "import pyaudio\n",
    "\n",
    "# PyAudio configuration\n",
    "FORMAT = pyaudio.paInt16  # Adjust this based on the audio format\n",
    "CHANNELS = 2  # Stereo\n",
    "RATE = 48000  # Adjust this based on the audio sample rate\n",
    "\n",
    "microphone_track=MediaPlayer(\"audio=Microphone Array (Realtek(R) Audio)\", format=\"dshow\")\n",
    "\n",
    "audio = pyaudio.PyAudio()\n",
    "stream = audio.open(format=FORMAT,\n",
    "                    channels=CHANNELS,\n",
    "                    rate=RATE,\n",
    "                    output=True)\n",
    "\n",
    "while True:\n",
    "    # await asyncio.sleep(0.1)\n",
    "    frame=await microphone_track.recv()\n",
    "    # frame=await microphone_track.recv()\n",
    "    if frame:\n",
    "        # print(frame)\n",
    "        audio_data=frame.to_ndarray().tobytes()\n",
    "        stream.write(audio_data)"
   ]
  },
  {
   "cell_type": "markdown",
   "metadata": {},
   "source": [
    "# Find audio samplerate, no. of channels"
   ]
  },
  {
   "cell_type": "code",
   "execution_count": 5,
   "metadata": {},
   "outputs": [
    {
     "name": "stdout",
     "output_type": "stream",
     "text": [
      "Channels: 1\n",
      "Sample Rate: 24000 Hz\n",
      "Sample Width: 2 bytes\n"
     ]
    }
   ],
   "source": [
    "import wave\n",
    "\n",
    "# Welcome Audio that has to be played in the starting\n",
    "with wave.open(\"../src/callbot/audios/global_ime_3_no.wav\", 'rb') as wav_file:\n",
    "    # Get the number of channels\n",
    "    channels = wav_file.getnchannels()\n",
    "\n",
    "    # Get the sample rate\n",
    "    sample_rate = wav_file.getframerate()\n",
    "\n",
    "    # Get the sample width\n",
    "    sample_width = wav_file.getsampwidth()\n",
    "\n",
    "    # Get the number of frames\n",
    "    num_frames = wav_file.getnframes()\n",
    "\n",
    "    # Read the audio data\n",
    "    audio_data = wav_file.readframes(num_frames)\n",
    "\n",
    "print(f\"Channels: {channels}\")\n",
    "print(f\"Sample Rate: {sample_rate} Hz\")\n",
    "print(f\"Sample Width: {sample_width} bytes\")\n"
   ]
  }
 ],
 "metadata": {
  "kernelspec": {
   "display_name": "Python 3",
   "language": "python",
   "name": "python3"
  },
  "language_info": {
   "codemirror_mode": {
    "name": "ipython",
    "version": 3
   },
   "file_extension": ".py",
   "mimetype": "text/x-python",
   "name": "python",
   "nbconvert_exporter": "python",
   "pygments_lexer": "ipython3",
   "version": "3.8.6"
  }
 },
 "nbformat": 4,
 "nbformat_minor": 2
}
