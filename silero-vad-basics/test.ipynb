{
 "cells": [
  {
   "cell_type": "markdown",
   "metadata": {},
   "source": [
    "# Record Audio"
   ]
  },
  {
   "cell_type": "code",
   "execution_count": 331,
   "metadata": {},
   "outputs": [
    {
     "name": "stdout",
     "output_type": "stream",
     "text": [
      "* recording\n",
      "* done recording\n"
     ]
    }
   ],
   "source": [
    "import pyaudio\n",
    "\n",
    "CHUNK = 1024\n",
    "FORMAT = pyaudio.paInt16\n",
    "CHANNELS = 1\n",
    "RATE = 44100\n",
    "RECORD_SECONDS = 10\n",
    "\n",
    "# audio_buffer=b''\n",
    "audio_buffer=[]\n",
    "\n",
    "p = pyaudio.PyAudio()\n",
    "stream = p.open(format=FORMAT,\n",
    "                channels=CHANNELS,\n",
    "                rate=RATE,\n",
    "                input=True,\n",
    "                frames_per_buffer=CHUNK)\n",
    "\n",
    "print(\"* recording\")\n",
    "\n",
    "for i in range(0, int(RATE / CHUNK * RECORD_SECONDS)):\n",
    "    data = stream.read(CHUNK)\n",
    "    # audio_buffer += data\n",
    "    audio_buffer.append(data)\n",
    "\n",
    "print(\"* done recording\")\n",
    "\n",
    "stream.stop_stream()\n",
    "stream.close()\n",
    "p.terminate()"
   ]
  },
  {
   "cell_type": "code",
   "execution_count": 332,
   "metadata": {},
   "outputs": [],
   "source": [
    "audio_buffer_copy=audio_buffer.copy()"
   ]
  },
  {
   "cell_type": "code",
   "execution_count": 366,
   "metadata": {},
   "outputs": [],
   "source": [
    "audio_buffer=audio_buffer_copy.copy()"
   ]
  },
  {
   "cell_type": "code",
   "execution_count": 367,
   "metadata": {},
   "outputs": [],
   "source": [
    "# Join Entire data from audio_buffer\n",
    "audio_data_bytes = b''.join(audio_buffer)"
   ]
  },
  {
   "cell_type": "code",
   "execution_count": 368,
   "metadata": {},
   "outputs": [
    {
     "data": {
      "text/plain": [
       "880640"
      ]
     },
     "execution_count": 368,
     "metadata": {},
     "output_type": "execute_result"
    }
   ],
   "source": [
    "len(audio_data_bytes)"
   ]
  },
  {
   "cell_type": "code",
   "execution_count": 369,
   "metadata": {},
   "outputs": [],
   "source": [
    "from silero_vad import SileroVAD\n",
    "\n",
    "combined_message_chunks=[]\n",
    "\n",
    "# Initialize SileroVAD\n",
    "onnx_model = './silero_vad.onnx'\n",
    "vad = SileroVAD(onnx_model=onnx_model)"
   ]
  },
  {
   "cell_type": "code",
   "execution_count": 370,
   "metadata": {},
   "outputs": [
    {
     "data": {
      "text/plain": [
       "[]"
      ]
     },
     "execution_count": 370,
     "metadata": {},
     "output_type": "execute_result"
    }
   ],
   "source": [
    "combined_message_chunks"
   ]
  },
  {
   "cell_type": "markdown",
   "metadata": {},
   "source": [
    "# Main Logic"
   ]
  },
  {
   "cell_type": "code",
   "execution_count": 371,
   "metadata": {},
   "outputs": [],
   "source": [
    "import numpy as np\n",
    "import soundfile as sf\n",
    "import numpy as np\n",
    "import tempfile\n",
    "import os\n",
    "\n",
    "# buffer to store combined 20 audio-chunks as one chunk\n",
    "buffer=[]\n",
    "\n",
    "# buffer index\n",
    "i=0\n",
    "\n",
    "# dictionary to store if buffer index has speech\n",
    "hasSpeech={}\n",
    "\n",
    "while len(audio_buffer)!=0:\n",
    "    if len(combined_message_chunks) < 20:\n",
    "        combined_message_chunks.append(audio_buffer.pop(0))\n",
    "        \n",
    "    if len(combined_message_chunks) ==20:\n",
    "        \n",
    "        combined_message = b''.join(combined_message_chunks)\n",
    "        buffer.append(combined_message)\n",
    "\n",
    "        combined_message_chunks.clear()\n",
    "        audio_array=np.frombuffer(combined_message, dtype=np.int16)\n",
    "\n",
    "        # Create tmppath as vad expects wav path \n",
    "        with tempfile.NamedTemporaryFile(suffix='.wav', delete=False) as tmpfile:\n",
    "            sf.write(tmpfile.name,audio_array, RATE)\n",
    "            tmpfile_path = tmpfile.name\n",
    "\n",
    "        speech_timestamps = vad.get_speech_timestamps(tmpfile_path)\n",
    "        hasSpeech[i] = any(speech_timestamps)\n",
    "        # for speech in speech_timestamps:\n",
    "        #     if speech:\n",
    "        #         print(i,'contains speech', speech)\n",
    "\n",
    "        # increate buffer index\n",
    "        i=i+1\n",
    "\n",
    "# \\x02\\x00"
   ]
  },
  {
   "cell_type": "code",
   "execution_count": 372,
   "metadata": {},
   "outputs": [
    {
     "data": {
      "text/plain": [
       "{0: False,\n",
       " 1: True,\n",
       " 2: True,\n",
       " 3: True,\n",
       " 4: True,\n",
       " 5: False,\n",
       " 6: False,\n",
       " 7: True,\n",
       " 8: True,\n",
       " 9: False,\n",
       " 10: True,\n",
       " 11: False,\n",
       " 12: False,\n",
       " 13: False,\n",
       " 14: False,\n",
       " 15: False,\n",
       " 16: True,\n",
       " 17: True,\n",
       " 18: False,\n",
       " 19: False,\n",
       " 20: False}"
      ]
     },
     "execution_count": 372,
     "metadata": {},
     "output_type": "execute_result"
    }
   ],
   "source": [
    "hasSpeech"
   ]
  },
  {
   "cell_type": "markdown",
   "metadata": {},
   "source": [
    "# Reconstruct Audio"
   ]
  },
  {
   "cell_type": "code",
   "execution_count": 389,
   "metadata": {},
   "outputs": [],
   "source": [
    "true_indexes = [k for k, v in hasSpeech.items() if v]\n",
    "speech_segments=[]\n",
    "\n",
    "for i in true_indexes:\n",
    "    audio_array = np.frombuffer(buffer[i], dtype=np.int16)\n",
    "    speech_segments.append(audio_array)\n",
    "\n",
    "sf.write('fullaudio.wav',np.concatenate(speech_segments),44100)"
   ]
  },
  {
   "cell_type": "code",
   "execution_count": 319,
   "metadata": {},
   "outputs": [
    {
     "data": {
      "text/plain": [
       "21"
      ]
     },
     "execution_count": 319,
     "metadata": {},
     "output_type": "execute_result"
    }
   ],
   "source": [
    "len(buffer)"
   ]
  },
  {
   "cell_type": "markdown",
   "metadata": {},
   "source": [
    "----------------------------------------------"
   ]
  },
  {
   "cell_type": "code",
   "execution_count": 118,
   "metadata": {},
   "outputs": [
    {
     "data": {
      "text/plain": [
       "array([ 0,  0, -1, ...,  4,  3,  3], dtype=int16)"
      ]
     },
     "execution_count": 118,
     "metadata": {},
     "output_type": "execute_result"
    }
   ],
   "source": [
    "import numpy as np\n",
    "\n",
    "# Assuming your byte string is stored in audio_buffer\n",
    "np.frombuffer(audio_data_bytes, dtype=np.int16)"
   ]
  },
  {
   "cell_type": "code",
   "execution_count": 119,
   "metadata": {},
   "outputs": [
    {
     "data": {
      "text/plain": [
       "212992"
      ]
     },
     "execution_count": 119,
     "metadata": {},
     "output_type": "execute_result"
    }
   ],
   "source": [
    "len(np.frombuffer(audio_data_bytes, dtype=np.int16))"
   ]
  },
  {
   "cell_type": "markdown",
   "metadata": {},
   "source": [
    "# Check if speech is there in each chunk"
   ]
  },
  {
   "cell_type": "code",
   "execution_count": 198,
   "metadata": {},
   "outputs": [],
   "source": [
    "from silero_vad import SileroVAD\n",
    "import soundfile as sf\n",
    "import numpy as np\n",
    "import tempfile\n",
    "import os\n",
    "\n",
    "# Hardcode RATE\n",
    "RATE=44100\n",
    "\n",
    "# Initialize SileroVAD\n",
    "onnx_model = '../using-fastapi/silero-vad-basics/silero_vad.onnx'\n",
    "vad = SileroVAD(onnx_model=onnx_model)\n",
    "\n",
    "speech_segments = []\n",
    "\n",
    "# Total number of samples processed so far\n",
    "total_samples = 0\n",
    "\n",
    "for i in range(len(audio_buffer)):\n",
    "\n",
    "    audio_array = np.frombuffer(audio_buffer[i], dtype=np.int16)\n",
    "\n",
    "    # Create a temporary WAV file to store the audio data\n",
    "    with tempfile.NamedTemporaryFile(suffix='.wav', delete=False) as tmpfile:\n",
    "        sf.write(tmpfile.name,audio_array, RATE)\n",
    "        tmpfile_path = tmpfile.name\n",
    "\n",
    "    # Get speech timestamps for the temporary WAV file\n",
    "    speech_timestamps = vad.get_speech_timestamps(tmpfile_path)\n",
    "\n",
    "    for speech in speech_timestamps:\n",
    "        # Adjust the timestamps relative to the entire audio stream\n",
    "        start = speech['start'] + total_samples\n",
    "        end = speech['end'] + total_samples\n",
    "        print('chunk', i, 'contains speech', {'start': start, 'end': end})\n",
    "        speech_segments.append(audio_array[speech['start']:speech['end']])\n",
    "    \n",
    "    total_samples += len(audio_array)\n",
    "\n",
    "    # Clean up the temporary file\n",
    "    os.unlink(tmpfile_path)\n",
    "\n"
   ]
  },
  {
   "cell_type": "code",
   "execution_count": 201,
   "metadata": {},
   "outputs": [
    {
     "data": {
      "text/plain": [
       "[]"
      ]
     },
     "execution_count": 201,
     "metadata": {},
     "output_type": "execute_result"
    }
   ],
   "source": [
    "speech_segments"
   ]
  },
  {
   "cell_type": "code",
   "execution_count": 199,
   "metadata": {},
   "outputs": [
    {
     "ename": "ValueError",
     "evalue": "need at least one array to concatenate",
     "output_type": "error",
     "traceback": [
      "\u001b[1;31m---------------------------------------------------------------------------\u001b[0m",
      "\u001b[1;31mValueError\u001b[0m                                Traceback (most recent call last)",
      "Cell \u001b[1;32mIn[199], line 1\u001b[0m\n\u001b[1;32m----> 1\u001b[0m sf\u001b[38;5;241m.\u001b[39mwrite(\u001b[38;5;124m'\u001b[39m\u001b[38;5;124mtest.wav\u001b[39m\u001b[38;5;124m'\u001b[39m,\u001b[43mnp\u001b[49m\u001b[38;5;241;43m.\u001b[39;49m\u001b[43mconcatenate\u001b[49m\u001b[43m(\u001b[49m\u001b[43mspeech_segments\u001b[49m\u001b[43m)\u001b[49m,\u001b[38;5;241m44100\u001b[39m)\n",
      "File \u001b[1;32m<__array_function__ internals>:200\u001b[0m, in \u001b[0;36mconcatenate\u001b[1;34m(*args, **kwargs)\u001b[0m\n",
      "\u001b[1;31mValueError\u001b[0m: need at least one array to concatenate"
     ]
    }
   ],
   "source": [
    "sf.write('test.wav',np.concatenate(speech_segments),44100)"
   ]
  },
  {
   "cell_type": "markdown",
   "metadata": {},
   "source": [
    "# Apply VAD to entire audio array"
   ]
  },
  {
   "cell_type": "code",
   "execution_count": 197,
   "metadata": {},
   "outputs": [
    {
     "name": "stdout",
     "output_type": "stream",
     "text": [
      "contains speech {'start': 55125, 'end': 74705}\n",
      "contains speech {'start': 91816, 'end': 115630}\n",
      "contains speech {'start': 138385, 'end': 159377}\n",
      "contains speech {'start': 183544, 'end': 205947}\n",
      "contains speech {'start': 232936, 'end': 255339}\n",
      "contains speech {'start': 276683, 'end': 301908}\n",
      "contains speech {'start': 330309, 'end': 355534}\n",
      "contains speech {'start': 417803, 'end': 438272}\n"
     ]
    }
   ],
   "source": [
    "# Initialize SileroVAD\n",
    "onnx_model = '../using-fastapi/silero-vad-basics/silero_vad.onnx'\n",
    "vad = SileroVAD(onnx_model=onnx_model)\n",
    "\n",
    "speech_segments = []\n",
    "\n",
    "with tempfile.NamedTemporaryFile(suffix='.wav', delete=False) as tmpfile:\n",
    "    audio_array = np.frombuffer(audio_data_bytes, dtype=np.int16)\n",
    "    sf.write(tmpfile.name,audio_array, RATE)\n",
    "    tmpfile_path = tmpfile.name\n",
    "\n",
    "# Get speech timestamps for the temporary WAV file\n",
    "speech_timestamps = vad.get_speech_timestamps(tmpfile_path)\n",
    "for speech in speech_timestamps:\n",
    "    print('contains speech', speech)\n",
    "    speech_segments.append(audio_array[speech['start']:speech['end']])\n",
    "\n",
    "sf.write('test.wav',np.concatenate(speech_segments),44100)"
   ]
  }
 ],
 "metadata": {
  "kernelspec": {
   "display_name": "myvenv",
   "language": "python",
   "name": "python3"
  },
  "language_info": {
   "codemirror_mode": {
    "name": "ipython",
    "version": 3
   },
   "file_extension": ".py",
   "mimetype": "text/x-python",
   "name": "python",
   "nbconvert_exporter": "python",
   "pygments_lexer": "ipython3",
   "version": "3.8.6"
  }
 },
 "nbformat": 4,
 "nbformat_minor": 2
}
