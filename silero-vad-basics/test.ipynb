{
 "cells": [
  {
   "cell_type": "code",
   "execution_count": 194,
   "metadata": {},
   "outputs": [
    {
     "name": "stdout",
     "output_type": "stream",
     "text": [
      "* recording\n",
      "* done recording\n"
     ]
    }
   ],
   "source": [
    "import pyaudio\n",
    "\n",
    "CHUNK = 4096\n",
    "FORMAT = pyaudio.paInt16\n",
    "CHANNELS = 1\n",
    "RATE = 44100\n",
    "RECORD_SECONDS = 10\n",
    "\n",
    "# audio_buffer=b''\n",
    "audio_buffer=[]\n",
    "\n",
    "p = pyaudio.PyAudio()\n",
    "stream = p.open(format=FORMAT,\n",
    "                channels=CHANNELS,\n",
    "                rate=RATE,\n",
    "                input=True,\n",
    "                frames_per_buffer=CHUNK)\n",
    "\n",
    "print(\"* recording\")\n",
    "\n",
    "for i in range(0, int(RATE / CHUNK * RECORD_SECONDS)):\n",
    "    data = stream.read(CHUNK)\n",
    "    # audio_buffer += data\n",
    "    audio_buffer.append(data)\n",
    "\n",
    "print(\"* done recording\")\n",
    "\n",
    "stream.stop_stream()\n",
    "stream.close()\n",
    "p.terminate()"
   ]
  },
  {
   "cell_type": "code",
   "execution_count": 195,
   "metadata": {},
   "outputs": [],
   "source": [
    "audio_data_bytes = b''.join(audio_buffer)"
   ]
  },
  {
   "cell_type": "code",
   "execution_count": 196,
   "metadata": {},
   "outputs": [
    {
     "data": {
      "text/plain": [
       "107"
      ]
     },
     "execution_count": 196,
     "metadata": {},
     "output_type": "execute_result"
    }
   ],
   "source": [
    "len(audio_buffer)\n",
    "# \\x02\\x00"
   ]
  },
  {
   "cell_type": "code",
   "execution_count": 118,
   "metadata": {},
   "outputs": [
    {
     "data": {
      "text/plain": [
       "array([ 0,  0, -1, ...,  4,  3,  3], dtype=int16)"
      ]
     },
     "execution_count": 118,
     "metadata": {},
     "output_type": "execute_result"
    }
   ],
   "source": [
    "import numpy as np\n",
    "\n",
    "# Assuming your byte string is stored in audio_buffer\n",
    "np.frombuffer(audio_data_bytes, dtype=np.int16)"
   ]
  },
  {
   "cell_type": "code",
   "execution_count": 119,
   "metadata": {},
   "outputs": [
    {
     "data": {
      "text/plain": [
       "212992"
      ]
     },
     "execution_count": 119,
     "metadata": {},
     "output_type": "execute_result"
    }
   ],
   "source": [
    "len(np.frombuffer(audio_data_bytes, dtype=np.int16))"
   ]
  },
  {
   "cell_type": "markdown",
   "metadata": {},
   "source": [
    "# Check if speech is there in each chunk"
   ]
  },
  {
   "cell_type": "code",
   "execution_count": 198,
   "metadata": {},
   "outputs": [],
   "source": [
    "from silero_vad import SileroVAD\n",
    "import soundfile as sf\n",
    "import numpy as np\n",
    "import tempfile\n",
    "import os\n",
    "\n",
    "# Hardcode RATE\n",
    "RATE=44100\n",
    "\n",
    "# Initialize SileroVAD\n",
    "onnx_model = '../using-fastapi/silero-vad-basics/silero_vad.onnx'\n",
    "vad = SileroVAD(onnx_model=onnx_model)\n",
    "\n",
    "speech_segments = []\n",
    "\n",
    "# Total number of samples processed so far\n",
    "total_samples = 0\n",
    "\n",
    "for i in range(len(audio_buffer)):\n",
    "\n",
    "    audio_array = np.frombuffer(audio_buffer[i], dtype=np.int16)\n",
    "\n",
    "    # Create a temporary WAV file to store the audio data\n",
    "    with tempfile.NamedTemporaryFile(suffix='.wav', delete=False) as tmpfile:\n",
    "        sf.write(tmpfile.name,audio_array, RATE)\n",
    "        tmpfile_path = tmpfile.name\n",
    "\n",
    "    # Get speech timestamps for the temporary WAV file\n",
    "    speech_timestamps = vad.get_speech_timestamps(tmpfile_path)\n",
    "\n",
    "    for speech in speech_timestamps:\n",
    "        # Adjust the timestamps relative to the entire audio stream\n",
    "        start = speech['start'] + total_samples\n",
    "        end = speech['end'] + total_samples\n",
    "        print('chunk', i, 'contains speech', {'start': start, 'end': end})\n",
    "        speech_segments.append(audio_array[speech['start']:speech['end']])\n",
    "    \n",
    "    total_samples += len(audio_array)\n",
    "\n",
    "    # Clean up the temporary file\n",
    "    os.unlink(tmpfile_path)\n",
    "\n"
   ]
  },
  {
   "cell_type": "code",
   "execution_count": 201,
   "metadata": {},
   "outputs": [
    {
     "data": {
      "text/plain": [
       "[]"
      ]
     },
     "execution_count": 201,
     "metadata": {},
     "output_type": "execute_result"
    }
   ],
   "source": [
    "speech_segments"
   ]
  },
  {
   "cell_type": "code",
   "execution_count": 199,
   "metadata": {},
   "outputs": [
    {
     "ename": "ValueError",
     "evalue": "need at least one array to concatenate",
     "output_type": "error",
     "traceback": [
      "\u001b[1;31m---------------------------------------------------------------------------\u001b[0m",
      "\u001b[1;31mValueError\u001b[0m                                Traceback (most recent call last)",
      "Cell \u001b[1;32mIn[199], line 1\u001b[0m\n\u001b[1;32m----> 1\u001b[0m sf\u001b[38;5;241m.\u001b[39mwrite(\u001b[38;5;124m'\u001b[39m\u001b[38;5;124mtest.wav\u001b[39m\u001b[38;5;124m'\u001b[39m,\u001b[43mnp\u001b[49m\u001b[38;5;241;43m.\u001b[39;49m\u001b[43mconcatenate\u001b[49m\u001b[43m(\u001b[49m\u001b[43mspeech_segments\u001b[49m\u001b[43m)\u001b[49m,\u001b[38;5;241m44100\u001b[39m)\n",
      "File \u001b[1;32m<__array_function__ internals>:200\u001b[0m, in \u001b[0;36mconcatenate\u001b[1;34m(*args, **kwargs)\u001b[0m\n",
      "\u001b[1;31mValueError\u001b[0m: need at least one array to concatenate"
     ]
    }
   ],
   "source": [
    "sf.write('test.wav',np.concatenate(speech_segments),44100)"
   ]
  },
  {
   "cell_type": "markdown",
   "metadata": {},
   "source": [
    "# Apply VAD to entire audio array"
   ]
  },
  {
   "cell_type": "code",
   "execution_count": 197,
   "metadata": {},
   "outputs": [
    {
     "name": "stdout",
     "output_type": "stream",
     "text": [
      "contains speech {'start': 55125, 'end': 74705}\n",
      "contains speech {'start': 91816, 'end': 115630}\n",
      "contains speech {'start': 138385, 'end': 159377}\n",
      "contains speech {'start': 183544, 'end': 205947}\n",
      "contains speech {'start': 232936, 'end': 255339}\n",
      "contains speech {'start': 276683, 'end': 301908}\n",
      "contains speech {'start': 330309, 'end': 355534}\n",
      "contains speech {'start': 417803, 'end': 438272}\n"
     ]
    }
   ],
   "source": [
    "# Initialize SileroVAD\n",
    "onnx_model = '../using-fastapi/silero-vad-basics/silero_vad.onnx'\n",
    "vad = SileroVAD(onnx_model=onnx_model)\n",
    "\n",
    "speech_segments = []\n",
    "\n",
    "with tempfile.NamedTemporaryFile(suffix='.wav', delete=False) as tmpfile:\n",
    "    audio_array = np.frombuffer(audio_data_bytes, dtype=np.int16)\n",
    "    sf.write(tmpfile.name,audio_array, RATE)\n",
    "    tmpfile_path = tmpfile.name\n",
    "\n",
    "# Get speech timestamps for the temporary WAV file\n",
    "speech_timestamps = vad.get_speech_timestamps(tmpfile_path)\n",
    "for speech in speech_timestamps:\n",
    "    print('contains speech', speech)\n",
    "    speech_segments.append(audio_array[speech['start']:speech['end']])\n",
    "\n",
    "sf.write('test.wav',np.concatenate(speech_segments),44100)"
   ]
  }
 ],
 "metadata": {
  "kernelspec": {
   "display_name": "myvenv",
   "language": "python",
   "name": "python3"
  },
  "language_info": {
   "codemirror_mode": {
    "name": "ipython",
    "version": 3
   },
   "file_extension": ".py",
   "mimetype": "text/x-python",
   "name": "python",
   "nbconvert_exporter": "python",
   "pygments_lexer": "ipython3",
   "version": "3.8.6"
  }
 },
 "nbformat": 4,
 "nbformat_minor": 2
}
